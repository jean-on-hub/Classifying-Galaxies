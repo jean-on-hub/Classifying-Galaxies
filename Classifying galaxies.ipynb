{
 "cells": [
  {
   "cell_type": "code",
   "execution_count": null,
   "id": "b35ae873",
   "metadata": {},
   "outputs": [],
   "source": [
    "import tensorflow as tf\n",
    "from tensorflow.keras.preprocessing.image import ImageDataGenerator\n",
    "\n",
    "from sklearn.model_selection import train_test_split\n",
    "from utils import load_galaxy_data\n",
    "\n",
    "import app\n",
    "\n",
    "# load data\n",
    "input_data, labels = load_galaxy_data()\n",
    "# print(labels.shape)\n",
    "print(input_data.shape)\n",
    "X_train,X_test,Y_train,Y_test = train_test_split(input_data,labels,test_size =0.2,random_state = 222,stratify = labels ,shuffle=True)\n",
    "img = ImageDataGenerator(rescale =1.0/255)\n",
    "X_train =img.flow(X_train,Y_train,batch_size = 5)\n",
    "X_test =img.flow(X_test,Y_test,batch_size = 5)\n",
    "\n",
    "# create model\n",
    "model = tf.keras.Sequential()\n",
    "model.add(tf.keras.Input(shape=(128,128,3,)))\n",
    "\n",
    "model.add(tf.keras.layers.Conv2D(8,3,strides =2,activation = \"relu\"))\n",
    "\n",
    "model.add(tf.keras.layers.MaxPooling2D(strides =(2,2),pool_size =(2,2)))\n",
    "\n",
    "model.add(tf.keras.layers.Conv2D(8,3,strides =2,activation = \"relu\"))\n",
    "\n",
    "model.add(tf.keras.layers.MaxPooling2D(strides =(2,2),pool_size =(2,2)))\n",
    "model.add(tf.keras.layers.Flatten())\n",
    "model.add(tf.keras.layers.Dense(16,activation = \"relu\"))\n",
    "model.add(tf.keras.layers.Dense(4,activation =\"softmax\"))\n",
    "\n",
    "model.compile(optimizer=tf.keras.optimizers.Adam(learning_rate = 0.001), loss= tf.keras.losses.CategoricalCrossentropy(), metrics=[tf.keras.metrics.CategoricalAccuracy(),tf.keras.metrics.AUC()])\n",
    "model.summary()\n",
    "\n",
    "\n",
    "model.fit(X_train,steps_per_epoch =len(X_train)/5,  validation_data=X_test , validation_steps = len(X_test)/5)\n",
    "\n",
    "from visualize import visualize_activations\n",
    "visualize_activations(model,X_test)\n"
   ]
  },
  {
   "cell_type": "code",
   "execution_count": null,
   "id": "5b5710d1",
   "metadata": {},
   "outputs": [],
   "source": []
  }
 ],
 "metadata": {
  "kernelspec": {
   "display_name": "Python 3",
   "language": "python",
   "name": "python3"
  },
  "language_info": {
   "codemirror_mode": {
    "name": "ipython",
    "version": 3
   },
   "file_extension": ".py",
   "mimetype": "text/x-python",
   "name": "python",
   "nbconvert_exporter": "python",
   "pygments_lexer": "ipython3",
   "version": "3.8.8"
  }
 },
 "nbformat": 4,
 "nbformat_minor": 5
}
